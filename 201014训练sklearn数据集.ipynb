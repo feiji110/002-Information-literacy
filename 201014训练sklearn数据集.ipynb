{
 "cells": [
  {
   "cell_type": "code",
   "execution_count": 4,
   "metadata": {
    "collapsed": true,
    "pycharm": {
     "name": "#%%\n"
    }
   },
   "outputs": [],
   "source": [
    "import numpy as np\n",
    "import matplotlib.pyplot as plt"
   ]
  },
  {
   "cell_type": "markdown",
   "source": [
    "# 一、普通最小二乘法"
   ],
   "metadata": {
    "collapsed": false,
    "pycharm": {
     "name": "#%% md\n"
    }
   }
  },
  {
   "cell_type": "code",
   "execution_count": 5,
   "outputs": [],
   "source": [
    "from sklearn import linear_model\n",
    "reg = linear_model.LinearRegression()"
   ],
   "metadata": {
    "collapsed": false,
    "pycharm": {
     "name": "#%%\n"
    }
   }
  },
  {
   "cell_type": "code",
   "source": [
    "reg.fit([[1,1],[0,0],[1,1],[2,2]],[1,2,3,4])\n",
    "reg.coef_#模型参数"
   ],
   "metadata": {
    "collapsed": false,
    "pycharm": {
     "name": "#%%\n"
    }
   },
   "execution_count": 8,
   "outputs": [
    {
     "data": {
      "text/plain": "array([0.5, 0.5])"
     },
     "execution_count": 8,
     "metadata": {},
     "output_type": "execute_result"
    }
   ]
  },
  {
   "cell_type": "markdown",
   "source": [
    "## 找方法，实例化对象，\n"
   ],
   "metadata": {
    "collapsed": false,
    "pycharm": {
     "name": "#%% md\n"
    }
   }
  },
  {
   "cell_type": "markdown",
   "source": [
    "## 糖尿病数据集"
   ],
   "metadata": {
    "collapsed": false,
    "pycharm": {
     "name": "#%% md\n"
    }
   }
  },
  {
   "cell_type": "code",
   "execution_count": 9,
   "outputs": [],
   "source": [
    "from sklearn import datasets\n",
    "diabetes = datasets.load_diabetes()"
   ],
   "metadata": {
    "collapsed": false,
    "pycharm": {
     "name": "#%%\n"
    }
   }
  },
  {
   "cell_type": "code",
   "execution_count": 10,
   "outputs": [
    {
     "data": {
      "text/plain": "(442, 10)"
     },
     "execution_count": 10,
     "metadata": {},
     "output_type": "execute_result"
    }
   ],
   "source": [
    "diabetes.data.shape"
   ],
   "metadata": {
    "collapsed": false,
    "pycharm": {
     "name": "#%%\n"
    }
   }
  },
  {
   "cell_type": "code",
   "execution_count": 11,
   "outputs": [
    {
     "data": {
      "text/plain": "(442,)"
     },
     "execution_count": 11,
     "metadata": {},
     "output_type": "execute_result"
    }
   ],
   "source": [
    "diabetes.target.shape"
   ],
   "metadata": {
    "collapsed": false,
    "pycharm": {
     "name": "#%%\n"
    }
   }
  },
  {
   "cell_type": "code",
   "execution_count": 15,
   "outputs": [],
   "source": [
    "# diabetes.data[:,2].reshape\n",
    "diabetes_X = diabetes.data[:,2][:,np.newaxis]\n",
    "# diabetes.data[:,2][np.newaxis,:]#增加一个新的维度"
   ],
   "metadata": {
    "collapsed": false,
    "pycharm": {
     "name": "#%%\n"
    }
   }
  },
  {
   "cell_type": "code",
   "execution_count": 17,
   "outputs": [],
   "source": [
    "from sklearn.model_selection import train_test_split\n",
    "\n",
    "x_train,x_test,y_train,y_test=train_test_split(diabetes_X,diabetes.target,test_size=.1)"
   ],
   "metadata": {
    "collapsed": false,
    "pycharm": {
     "name": "#%%\n"
    }
   }
  },
  {
   "cell_type": "code",
   "execution_count": 18,
   "outputs": [
    {
     "data": {
      "text/plain": "LinearRegression(copy_X=True, fit_intercept=True, n_jobs=None, normalize=False)"
     },
     "execution_count": 18,
     "metadata": {},
     "output_type": "execute_result"
    }
   ],
   "source": [
    "reg = linear_model.LinearRegression()\n",
    "reg.fit(x_train,y_train)\n",
    "# reg.coef_#模型参数\n"
   ],
   "metadata": {
    "collapsed": false,
    "pycharm": {
     "name": "#%%\n"
    }
   }
  },
  {
   "cell_type": "code",
   "execution_count": 23,
   "outputs": [],
   "source": [
    "y_pred = reg.predict(x_test)"
   ],
   "metadata": {
    "collapsed": false,
    "pycharm": {
     "name": "#%%\n"
    }
   }
  },
  {
   "cell_type": "code",
   "execution_count": 21,
   "outputs": [
    {
     "data": {
      "text/plain": "0.1860878409748078"
     },
     "execution_count": 21,
     "metadata": {},
     "output_type": "execute_result"
    }
   ],
   "source": [
    "reg.score(x_test,y_test)#正确率"
   ],
   "metadata": {
    "collapsed": false,
    "pycharm": {
     "name": "#%%\n"
    }
   }
  },
  {
   "cell_type": "code",
   "execution_count": 25,
   "outputs": [
    {
     "data": {
      "text/plain": "[<matplotlib.lines.Line2D at 0x25280b96d48>]"
     },
     "execution_count": 25,
     "metadata": {},
     "output_type": "execute_result"
    },
    {
     "data": {
      "text/plain": "<Figure size 432x288 with 1 Axes>",
      "image/png": "[encoded data removed]"
     },
     "metadata": {
      "needs_background": "light"
     },
     "output_type": "display_data"
    }
   ],
   "source": [
    "plt.scatter(x_test,y_test,c='r')\n",
    "plt.plot(x_test,y_pred)"
   ],
   "metadata": {
    "collapsed": false,
    "pycharm": {
     "name": "#%%\n"
    }
   }
  },
  {
   "cell_type": "code",
   "execution_count": 33,
   "outputs": [
    {
     "data": {
      "text/plain": "array([1])"
     },
     "execution_count": 33,
     "metadata": {},
     "output_type": "execute_result"
    }
   ],
   "source": [
    "from sklearn import tree\n",
    "x = [[0,0],[1,1]]\n",
    "y =  [0,1]\n",
    "clf = tree.DecisionTreeClassifier()\n",
    "clf.fit(x,y)\n",
    "clf.predict([[2,2]])"
   ],
   "metadata": {
    "collapsed": false,
    "pycharm": {
     "name": "#%%\n"
    }
   }
  },
  {
   "cell_type": "code",
   "execution_count": 35,
   "outputs": [
    {
     "data": {
      "text/plain": "array([1])"
     },
     "execution_count": 35,
     "metadata": {},
     "output_type": "execute_result"
    }
   ],
   "source": [
    "iris = datasets.load_iris()\n",
    "clf_i = tree.DecisionTreeClassifier()\n",
    "clf_i.fit(iris.data,iris.target)\n",
    "clf_i.predict([[1,2,3,4]])"
   ],
   "metadata": {
    "collapsed": false,
    "pycharm": {
     "name": "#%%\n"
    }
   }
  },
  {
   "cell_type": "markdown",
   "source": [
    "## wine数据集"
   ],
   "metadata": {
    "collapsed": false,
    "pycharm": {
     "name": "#%% md\n"
    }
   }
  },
  {
   "cell_type": "code",
   "execution_count": null,
   "outputs": [],
   "source": [
    "wine = datasets.load_wine()\n",
    "wine.data.shape"
   ],
   "metadata": {
    "collapsed": false,
    "pycharm": {
     "name": "#%%\n"
    }
   }
  },
  {
   "cell_type": "code",
   "execution_count": 37,
   "outputs": [
    {
     "data": {
      "text/plain": "array([0, 0, 0, 0, 0, 0, 0, 0, 0, 0, 0, 0, 0, 0, 0, 0, 0, 0, 0, 0, 0, 0,\n       0, 0, 0, 0, 0, 0, 0, 0, 0, 0, 0, 0, 0, 0, 0, 0, 0, 0, 0, 0, 0, 0,\n       0, 0, 0, 0, 0, 0, 0, 0, 0, 0, 0, 0, 0, 0, 0, 1, 1, 1, 1, 1, 1, 1,\n       1, 1, 1, 1, 1, 1, 1, 1, 1, 1, 1, 1, 1, 1, 1, 1, 1, 1, 1, 1, 1, 1,\n       1, 1, 1, 1, 1, 1, 1, 1, 1, 1, 1, 1, 1, 1, 1, 1, 1, 1, 1, 1, 1, 1,\n       1, 1, 1, 1, 1, 1, 1, 1, 1, 1, 1, 1, 1, 1, 1, 1, 1, 1, 1, 1, 2, 2,\n       2, 2, 2, 2, 2, 2, 2, 2, 2, 2, 2, 2, 2, 2, 2, 2, 2, 2, 2, 2, 2, 2,\n       2, 2, 2, 2, 2, 2, 2, 2, 2, 2, 2, 2, 2, 2, 2, 2, 2, 2, 2, 2, 2, 2,\n       2, 2])"
     },
     "execution_count": 37,
     "metadata": {},
     "output_type": "execute_result"
    }
   ],
   "source": [
    "wine.target"
   ],
   "metadata": {
    "collapsed": false,
    "pycharm": {
     "name": "#%%\n"
    }
   }
  },
  {
   "cell_type": "code",
   "execution_count": 41,
   "outputs": [
    {
     "data": {
      "text/plain": "DecisionTreeClassifier(class_weight=None, criterion='gini', max_depth=None,\n                       max_features=None, max_leaf_nodes=None,\n                       min_impurity_decrease=0.0, min_impurity_split=None,\n                       min_samples_leaf=1, min_samples_split=2,\n                       min_weight_fraction_leaf=0.0, presort=False,\n                       random_state=None, splitter='best')"
     },
     "execution_count": 41,
     "metadata": {},
     "output_type": "execute_result"
    }
   ],
   "source": [
    "x_train,x_test,y_train,y_test=train_test_split(wine.data,wine.target,test_size=.3)\n",
    "clf_w = tree.DecisionTreeClassifier()\n",
    "clf_w.fit(x_train,y_train)"
   ],
   "metadata": {
    "collapsed": false,
    "pycharm": {
     "name": "#%%\n"
    }
   }
  },
  {
   "cell_type": "code",
   "execution_count": 42,
   "outputs": [
    {
     "data": {
      "text/plain": "0.9074074074074074"
     },
     "execution_count": 42,
     "metadata": {},
     "output_type": "execute_result"
    }
   ],
   "source": [
    "clf_w.score(x_test,y_test)"
   ],
   "metadata": {
    "collapsed": false,
    "pycharm": {
     "name": "#%%\n"
    }
   }
  },
  {
   "cell_type": "code",
   "execution_count": 46,
   "outputs": [],
   "source": [
    "from sklearn.neighbors import KNeighborsClassifier\n",
    "knn = KNeighborsClassifier(n_neighbors=3)"
   ],
   "metadata": {
    "collapsed": false,
    "pycharm": {
     "name": "#%%\n"
    }
   }
  },
  {
   "cell_type": "code",
   "execution_count": 47,
   "outputs": [
    {
     "data": {
      "text/plain": "1.0"
     },
     "execution_count": 47,
     "metadata": {},
     "output_type": "execute_result"
    }
   ],
   "source": [
    "x_train,x_test,y_train,y_test=train_test_split(iris.data,iris.target,test_size=.1)\n",
    "knn.fit(x_train,y_train)\n",
    "knn.score(x_test,y_test)\n"
   ],
   "metadata": {
    "collapsed": false,
    "pycharm": {
     "name": "#%%\n"
    }
   }
  },
  {
   "cell_type": "markdown",
   "source": [
    "## 四，神经网络"
   ],
   "metadata": {
    "collapsed": false,
    "pycharm": {
     "name": "#%% md\n"
    }
   }
  },
  {
   "cell_type": "code",
   "execution_count": 52,
   "outputs": [
    {
     "name": "stderr",
     "output_type": "stream",
     "text": [
      "C:\\Users\\19831\\Anaconda3\\lib\\site-packages\\sklearn\\neural_network\\multilayer_perceptron.py:566: ConvergenceWarning: Stochastic Optimizer: Maximum iterations (200) reached and the optimization hasn't converged yet.\n",
      "  % self.max_iter, ConvergenceWarning)\n"
     ]
    },
    {
     "data": {
      "text/plain": "array([1, 0])"
     },
     "execution_count": 52,
     "metadata": {},
     "output_type": "execute_result"
    }
   ],
   "source": [
    "from sklearn import neural_network\n",
    "x\n",
    "y\n",
    "clf = neural_network.MLPClassifier()\n",
    "clf.fit(x,y)\n",
    "clf.predict([[2,2],[-1,-2]])"
   ],
   "metadata": {
    "collapsed": false,
    "pycharm": {
     "name": "#%%\n"
    }
   }
  },
  {
   "cell_type": "code",
   "execution_count": 53,
   "outputs": [
    {
     "data": {
      "text/plain": "[array([[-1.04145683e-01, -3.20049670e-01, -4.85820607e-02,\n         -4.05350759e-02, -1.33334372e-01, -6.74549528e-07,\n          3.10195784e-01, -2.71068109e-01, -8.26501220e-02,\n         -2.21742775e-05, -5.14438491e-02,  6.55581194e-07,\n         -7.82255619e-02, -1.84300211e-01,  1.00244288e-01,\n          1.09778965e-05,  1.05570975e-01, -4.05817210e-02,\n          2.66591331e-02,  2.04546846e-01,  6.87596036e-02,\n         -2.96571128e-02,  2.36581159e-01,  2.93669382e-03,\n          3.50035763e-01,  4.08185842e-01,  9.84881335e-05,\n          2.32999005e-02, -9.27515293e-02,  2.10251721e-01,\n          2.56914510e-01,  2.63484633e-01, -1.74616415e-02,\n          1.32045896e-01, -2.89694921e-02,  1.55364477e-01,\n         -3.65490518e-02, -3.07809812e-03,  3.00575174e-01,\n         -1.34312830e-02, -6.93574697e-04, -2.86862605e-01,\n         -2.72220524e-01, -7.86358607e-07, -3.49067642e-02,\n         -7.84881475e-02,  9.61189760e-02,  4.68649122e-04,\n         -2.54908880e-03,  3.92007856e-01, -1.78113786e-02,\n         -7.99892524e-02,  1.59679468e-01,  4.66179296e-02,\n         -1.31157631e-01,  3.21500378e-01,  8.06909848e-02,\n         -1.59438069e-01,  4.70104472e-05, -6.06249065e-02,\n         -7.13062102e-02,  3.65801319e-01,  9.97762946e-02,\n          2.71617497e-02, -2.65849509e-02,  6.99954002e-07,\n         -2.69006655e-01,  3.66378139e-02,  4.21030907e-01,\n         -8.57509215e-05, -6.59187665e-02,  3.03909271e-01,\n         -1.00335827e-01,  3.33043277e-01,  1.31719305e-01,\n          6.68967474e-02, -1.70641553e-02,  1.06420442e-02,\n         -2.18644119e-01, -7.94464757e-02,  3.87734347e-01,\n          1.98607747e-06,  3.41174590e-01, -2.09468127e-01,\n         -9.93883201e-02, -2.27360271e-02, -7.41371890e-02,\n         -1.29014211e-01, -1.34538702e-02,  3.30181114e-01,\n          1.03331639e-01, -1.28915259e-05, -2.36701525e-01,\n          1.25088499e-01, -3.23559347e-01,  2.33017268e-01,\n          2.93101690e-01, -5.54782285e-02,  1.27302458e-01,\n         -1.08953135e-02],\n        [-1.70492497e-02, -6.35474454e-02,  2.92949740e-02,\n         -7.02722358e-02, -1.58844762e-01, -3.73673948e-04,\n          1.54086549e-01,  1.09842840e-01, -1.56620934e-01,\n         -1.51587594e-03,  7.70162005e-03,  5.02168124e-07,\n          5.47959141e-07, -6.46184028e-02,  9.16687117e-02,\n         -1.06529127e-06, -9.09239243e-03,  7.44953213e-03,\n          8.74921920e-06,  3.15653349e-01,  3.78798412e-01,\n          3.03502783e-02,  1.98604238e-01, -3.39453094e-07,\n          2.15331748e-01,  3.33572438e-01, -4.35110137e-04,\n         -1.00513776e-06,  1.50497621e-01,  2.25406828e-01,\n          1.12291323e-01,  3.81919920e-01, -2.06064392e-01,\n         -1.13150857e-01, -1.46128222e-01,  5.63185408e-02,\n          4.18021806e-01,  3.40919395e-01,  7.21588441e-02,\n          5.09845021e-02,  6.57597223e-02, -8.42851306e-02,\n         -1.39617059e-01, -1.18977891e-02,  2.22225179e-05,\n          3.95894117e-01,  1.34210361e-01,  6.42768100e-04,\n         -2.73901195e-02,  1.99772508e-01, -2.34352425e-04,\n         -9.53084909e-02,  3.32953828e-01,  2.05898525e-01,\n         -1.04432705e-01,  3.48366233e-01,  1.38298756e-02,\n          1.07763565e-01, -2.60048993e-06, -7.25829512e-02,\n          4.59413526e-02,  2.71712970e-01,  1.79204405e-03,\n          9.76811614e-02,  2.30999200e-06, -1.73892212e-02,\n         -7.69394297e-02, -3.34112681e-02,  1.60950321e-01,\n         -3.10133427e-02,  7.86888437e-06,  2.97017100e-01,\n         -4.90317654e-02,  1.05694890e-01,  3.53614059e-01,\n          9.98808607e-02, -1.65175017e-03, -4.93242977e-03,\n         -1.33141287e-01, -4.70182959e-09,  2.64480652e-01,\n         -5.65472965e-06,  1.92290609e-01, -1.63274183e-01,\n          8.73566824e-02, -4.62494739e-09, -1.62043775e-01,\n         -1.44384711e-01,  5.40814041e-02,  2.45891053e-01,\n          5.55880878e-02, -1.13170499e-02, -1.15926599e-01,\n         -1.02557844e-01, -5.25075116e-02,  2.96306996e-01,\n          3.36070939e-01, -2.43586669e-02,  2.77084855e-01,\n         -3.28215670e-07]]), array([[-2.18790910e-02],\n        [-3.02057022e-01],\n        [-2.08149065e-01],\n        [-2.16408079e-02],\n        [-3.83345825e-01],\n        [ 3.74528672e-02],\n        [ 2.85838660e-01],\n        [-2.90353221e-01],\n        [-2.83092805e-01],\n        [-4.58293842e-06],\n        [-7.80433183e-02],\n        [-1.52048486e-03],\n        [-9.24446157e-04],\n        [-4.07492555e-01],\n        [-1.66066899e-01],\n        [ 2.65518121e-07],\n        [ 1.13850528e-01],\n        [-6.14491503e-07],\n        [ 7.83018891e-02],\n        [ 3.55803109e-01],\n        [ 2.69106114e-01],\n        [-3.40528525e-02],\n        [ 3.49777470e-01],\n        [-7.20304711e-02],\n        [ 1.80826733e-01],\n        [ 2.28068943e-01],\n        [ 6.96906553e-04],\n        [ 1.73448684e-06],\n        [-5.85616838e-02],\n        [ 2.83325427e-01],\n        [ 3.82263731e-01],\n        [ 2.98809162e-01],\n        [-3.94589434e-01],\n        [-5.81454123e-02],\n        [-4.77181785e-02],\n        [-2.05240643e-01],\n        [ 2.58218527e-01],\n        [ 2.97490126e-01],\n        [ 3.06356370e-01],\n        [-1.36444806e-03],\n        [-4.45431627e-07],\n        [-3.58390203e-01],\n        [-3.08122825e-01],\n        [ 7.42106277e-02],\n        [-7.70292314e-02],\n        [ 3.44686272e-01],\n        [-1.98769146e-01],\n        [-3.39597104e-02],\n        [-4.81247646e-02],\n        [ 2.28758399e-01],\n        [-4.70083800e-02],\n        [-3.66577882e-01],\n        [ 2.19843518e-01],\n        [ 2.87998713e-01],\n        [-2.47049937e-01],\n        [ 2.92995565e-01],\n        [-1.21662750e-01],\n        [-5.95275495e-02],\n        [-5.76467231e-02],\n        [-1.98275827e-01],\n        [ 7.89291096e-03],\n        [ 2.16771001e-01],\n        [-9.72751284e-02],\n        [-1.52956883e-01],\n        [-5.38544503e-02],\n        [ 1.59457421e-01],\n        [-1.95581777e-01],\n        [ 6.89184316e-02],\n        [ 1.37426334e-01],\n        [ 7.87748839e-02],\n        [-2.57462992e-02],\n        [ 2.52783009e-01],\n        [-1.31777295e-01],\n        [ 2.42321946e-01],\n        [ 1.87170419e-01],\n        [-5.34258076e-03],\n        [ 6.71570253e-02],\n        [-5.91604221e-02],\n        [-3.52036988e-01],\n        [-2.96590208e-03],\n        [ 1.22455920e-01],\n        [ 5.39281453e-02],\n        [ 1.85969865e-01],\n        [-1.43488357e-01],\n        [-1.81635829e-01],\n        [ 2.00221262e-05],\n        [-2.99021430e-01],\n        [-1.65879354e-01],\n        [-5.04548441e-02],\n        [ 3.44055925e-01],\n        [ 7.13726120e-02],\n        [ 4.88433540e-02],\n        [-4.08951950e-01],\n        [-7.17677094e-02],\n        [-2.96135810e-01],\n        [ 2.20748194e-01],\n        [ 1.75528431e-01],\n        [ 4.90745519e-06],\n        [ 3.85574544e-01],\n        [-7.96447959e-02]])]"
     },
     "execution_count": 53,
     "metadata": {},
     "output_type": "execute_result"
    }
   ],
   "source": [
    "clf.coefs_\n"
   ],
   "metadata": {
    "collapsed": false,
    "pycharm": {
     "name": "#%%\n"
    }
   }
  },
  {
   "cell_type": "code",
   "execution_count": 56,
   "outputs": [
    {
     "data": {
      "text/plain": "[(2, 100), (100, 1)]"
     },
     "execution_count": 56,
     "metadata": {},
     "output_type": "execute_result"
    }
   ],
   "source": [
    "[coef.shape for coef in clf.coefs_]"
   ],
   "metadata": {
    "collapsed": false,
    "pycharm": {
     "name": "#%%\n"
    }
   }
  },
  {
   "cell_type": "markdown",
   "source": [
    "## 五、k均值聚类"
   ],
   "metadata": {
    "collapsed": false,
    "pycharm": {
     "name": "#%% md\n"
    }
   }
  },
  {
   "cell_type": "code",
   "execution_count": 57,
   "outputs": [],
   "source": [
    "from sklearn import cluster\n",
    "x,y = datasets.make_blobs(n_samples=300,n_features=2,centers=4)"
   ],
   "metadata": {
    "collapsed": false,
    "pycharm": {
     "name": "#%%\n"
    }
   }
  },
  {
   "cell_type": "code",
   "execution_count": 58,
   "outputs": [
    {
     "data": {
      "text/plain": "KMeans(algorithm='auto', copy_x=True, init='k-means++', max_iter=300,\n       n_clusters=4, n_init=10, n_jobs=None, precompute_distances='auto',\n       random_state=None, tol=0.0001, verbose=0)"
     },
     "execution_count": 58,
     "metadata": {},
     "output_type": "execute_result"
    }
   ],
   "source": [
    "kmeans = cluster.KMeans(n_clusters = 4)\n",
    "kmeans.fit(x)"
   ],
   "metadata": {
    "collapsed": false,
    "pycharm": {
     "name": "#%%\n"
    }
   }
  },
  {
   "cell_type": "code",
   "execution_count": 59,
   "outputs": [
    {
     "data": {
      "text/plain": "array([1, 2, 2, 0, 2, 1, 0, 3, 0, 2, 0, 2, 3, 2, 0, 1, 2, 1, 1, 0, 2, 3,\n       1, 2, 2, 3, 0, 0, 0, 2, 1, 2, 3, 1, 0, 2, 0, 0, 0, 2, 3, 3, 3, 2,\n       3, 1, 2, 2, 3, 2, 0, 2, 3, 1, 2, 0, 2, 1, 3, 0, 3, 1, 2, 0, 0, 1,\n       0, 1, 0, 3, 2, 1, 3, 1, 1, 0, 0, 3, 3, 3, 0, 0, 0, 3, 3, 1, 3, 3,\n       3, 2, 0, 1, 1, 0, 1, 2, 0, 1, 1, 3, 3, 0, 0, 2, 3, 3, 2, 3, 0, 2,\n       0, 3, 2, 3, 2, 0, 2, 2, 2, 2, 3, 2, 0, 2, 3, 3, 3, 2, 0, 1, 0, 1,\n       0, 1, 3, 0, 1, 1, 1, 1, 1, 0, 2, 2, 3, 2, 2, 2, 1, 2, 0, 3, 2, 3,\n       1, 2, 1, 3, 3, 2, 2, 1, 0, 1, 3, 0, 2, 0, 2, 1, 2, 0, 0, 2, 2, 2,\n       0, 1, 1, 0, 0, 3, 1, 1, 1, 1, 1, 1, 2, 0, 3, 2, 3, 2, 1, 1, 3, 0,\n       2, 0, 0, 1, 3, 0, 1, 1, 3, 0, 0, 1, 1, 2, 3, 1, 0, 0, 0, 3, 1, 1,\n       0, 3, 3, 3, 3, 2, 1, 3, 1, 1, 3, 0, 3, 0, 1, 0, 1, 3, 0, 1, 1, 0,\n       2, 1, 1, 3, 3, 1, 1, 2, 3, 2, 3, 2, 3, 2, 2, 0, 0, 2, 3, 1, 0, 3,\n       2, 2, 2, 0, 0, 3, 1, 3, 0, 1, 1, 3, 3, 3, 0, 1, 3, 2, 3, 0, 2, 1,\n       2, 3, 0, 2, 0, 1, 0, 2, 2, 0, 3, 1, 3, 1])"
     },
     "execution_count": 59,
     "metadata": {},
     "output_type": "execute_result"
    }
   ],
   "source": [
    "kmeans.labels_\n"
   ],
   "metadata": {
    "collapsed": false,
    "pycharm": {
     "name": "#%%\n"
    }
   }
  },
  {
   "cell_type": "code",
   "execution_count": 66,
   "outputs": [
    {
     "data": {
      "text/plain": "<matplotlib.collections.PathCollection at 0x252867f14c8>"
     },
     "execution_count": 66,
     "metadata": {},
     "output_type": "execute_result"
    },
    {
     "data": {
      "text/plain": "<Figure size 432x288 with 1 Axes>",
      "image/png": "[encoded data removed]"
     },
     "metadata": {
      "needs_background": "light"
     },
     "output_type": "display_data"
    }
   ],
   "source": [
    "plt.scatter(x[kmeans.labels_==0][:,0],x[kmeans.labels_==0][:,1],c='r')\n",
    "plt.scatter(x[kmeans.labels_==1][:,0],x[kmeans.labels_==1][:,1],c='g')\n",
    "plt.scatter(x[kmeans.labels_==2][:,0],x[kmeans.labels_==2][:,1],c='b')\n",
    "plt.scatter(x[kmeans.labels_==3][:,0],x[kmeans.labels_==3][:,1],c='k')"
   ],
   "metadata": {
    "collapsed": false,
    "pycharm": {
     "name": "#%%\n"
    }
   }
  },
  {
   "cell_type": "markdown",
   "source": [
    "# 随机找到样本点，然后指定半径画圈，是否是核心点，边界点，噪声"
   ],
   "metadata": {
    "collapsed": false,
    "pycharm": {
     "name": "#%% md\n"
    }
   }
  },
  {
   "cell_type": "markdown",
   "source": [
    "# 六、密度聚类"
   ],
   "metadata": {
    "collapsed": false,
    "pycharm": {
     "name": "#%% md\n"
    }
   }
  },
  {
   "cell_type": "code",
   "execution_count": 76,
   "outputs": [],
   "source": [
    "from sklearn.cluster import DBSCAN\n",
    "dbs = DBSCAN(eps=1.0,min_samples=4)"
   ],
   "metadata": {
    "collapsed": false,
    "pycharm": {
     "name": "#%%\n"
    }
   }
  },
  {
   "cell_type": "code",
   "execution_count": 75,
   "outputs": [
    {
     "data": {
      "text/plain": "<matplotlib.collections.PathCollection at 0x2528613bcc8>"
     },
     "execution_count": 75,
     "metadata": {},
     "output_type": "execute_result"
    },
    {
     "data": {
      "text/plain": "<Figure size 432x288 with 1 Axes>",
      "image/png": "[encoded data removed]"
     },
     "metadata": {
      "needs_background": "light"
     },
     "output_type": "display_data"
    }
   ],
   "source": [
    "dbs.fit(x)\n",
    "plt.scatter(x[dbs.labels_==0][:,0],x[dbs.labels_==0][:,1],c='k')\n",
    "plt.scatter(x[dbs.labels_==1][:,0],x[dbs.labels_==1][:,1],c='g')\n",
    "plt.scatter(x[dbs.labels_==2][:,0],x[dbs.labels_==2][:,1],c='b')\n",
    "plt.scatter(x[dbs.labels_==-1][:,0],x[dbs.labels_==-1][:,1],c='r')#噪声点"
   ],
   "metadata": {
    "collapsed": false,
    "pycharm": {
     "name": "#%%\n"
    }
   }
  },
  {
   "cell_type": "code",
   "execution_count": null,
   "outputs": [],
   "source": [],
   "metadata": {
    "collapsed": false,
    "pycharm": {
     "name": "#%%\n"
    }
   }
  }
 ],
 "metadata": {
  "kernelspec": {
   "display_name": "Python 3",
   "language": "python",
   "name": "python3"
  },
  "language_info": {
   "codemirror_mode": {
    "name": "ipython",
    "version": 2
   },
   "file_extension": ".py",
   "mimetype": "text/x-python",
   "name": "python",
   "nbconvert_exporter": "python",
   "pygments_lexer": "ipython2",
   "version": "2.7.6"
  }
 },
 "nbformat": 4,
 "nbformat_minor": 0
}